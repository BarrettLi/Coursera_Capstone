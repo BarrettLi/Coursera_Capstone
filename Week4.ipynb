{
 "cells": [
  {
   "cell_type": "markdown",
   "metadata": {},
   "source": [
    "# Business Problem"
   ]
  },
  {
   "cell_type": "markdown",
   "metadata": {},
   "source": [
    "An investor would like to open a new restaurant in Los Angeles. Unfortunately, the investor doesn't know Los Angeles very well and actually has no idea about where to locate the restaurant. Whether it is a good idea to open it in downtown or some specific districts."
   ]
  },
  {
   "cell_type": "markdown",
   "metadata": {},
   "source": [
    "# Data"
   ]
  },
  {
   "cell_type": "markdown",
   "metadata": {},
   "source": [
    "* A list of cities in Los Angeles County from Wikipedia:\n",
    "https://en.wikipedia.org/wiki/List_of_cities_in_Los_Angeles_County,_California\n",
    "* Foursquare location data to take info about venues from each district. Then I'll be able to make segmentation and profiling of districts and look at places best for opening new restaurant"
   ]
  },
  {
   "cell_type": "code",
   "execution_count": null,
   "metadata": {
    "collapsed": true
   },
   "outputs": [],
   "source": []
  }
 ],
 "metadata": {
  "kernelspec": {
   "display_name": "Python 2",
   "language": "python",
   "name": "python2"
  },
  "language_info": {
   "codemirror_mode": {
    "name": "ipython",
    "version": 2
   },
   "file_extension": ".py",
   "mimetype": "text/x-python",
   "name": "python",
   "nbconvert_exporter": "python",
   "pygments_lexer": "ipython2",
   "version": "2.7.3"
  }
 },
 "nbformat": 4,
 "nbformat_minor": 2
}
